{
 "cells": [
  {
   "cell_type": "code",
   "execution_count": 23,
   "metadata": {
    "scrolled": true
   },
   "outputs": [],
   "source": [
    "import papermill as pm\n",
    "from datetime import datetime\n",
    "from papermill.engines import NBConvertEngine\n",
    "from nbformat.v4 import new_output\n",
    "\n",
    "class CustomEngine(NBConvertEngine):\n",
    "    @classmethod\n",
    "    def execute_managed_notebook(cls, nb_man, kernel_name, **kwargs):        \n",
    "        # call the papermill execution engine:\n",
    "        super().execute_managed_notebook(nb_man, kernel_name, **kwargs)\n",
    "        for cell in nb_man.nb.cells:\n",
    "            if cell.cell_type == \"code\" and cell.execution_count is not None:\n",
    "                start = datetime.fromisoformat(cell.metadata.papermill.start_time)\n",
    "                end = datetime.fromisoformat(cell.metadata.papermill.end_time)\n",
    "                output_message = {(end - start).total_seconds()} + \": time taken for execution\"\n",
    "                output_node = new_output(\"display_data\", data={\"text/plain\": [output_message]})\n",
    "                cell.outputs = [output_node] + cell.outputs"
   ]
  }
 ],
 "metadata": {
  "kernelspec": {
   "display_name": "Python 3",
   "language": "python",
   "name": "python3"
  },
  "language_info": {
   "codemirror_mode": {
    "name": "ipython",
    "version": 3
   },
   "file_extension": ".py",
   "mimetype": "text/x-python",
   "name": "python",
   "nbconvert_exporter": "python",
   "pygments_lexer": "ipython3",
   "version": "3.5.2"
  }
 },
 "nbformat": 4,
 "nbformat_minor": 2
}
