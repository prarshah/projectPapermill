{
 "cells": [
  {
   "cell_type": "code",
   "execution_count": 4,
   "metadata": {},
   "outputs": [],
   "source": [
    "import os\n",
    "import pysftp\n",
    "from datetime import datetime\n",
    "from papermill.engines import NBConvertEngine\n",
    "from nbformat.v4 import new_output\n",
    "\n",
    "sftp_username = os.getenv('SFTP_USERNAME')\n",
    "sftp_password = os.getenv('SFTP_PASSWORD')\n",
    "\n",
    "class SFTPHandler:\n",
    "\n",
    "    @classmethod\n",
    "    def read(cls, path):\n",
    "        \"\"\"\n",
    "        Read a notebook from an SFTP server.\n",
    "        \"\"\"\n",
    "        parsed_url = urllib.parse.urlparse(path)\n",
    "        with tempfile.TemporaryDirectory() as tmpdir:\n",
    "            tmp_file = pathlib.Path(tmpdir) / pathlib.Path(parsed_url.path).name\n",
    "            with pysftp.Connection(\n",
    "                parsed_url.hostname,\n",
    "                username=sftp_username,\n",
    "                password=sftp_password,\n",
    "                port=(parsed_url.port or 22),\n",
    "                cnopts=cnopts,\n",
    "            ) as sftp:\n",
    "                sftp.get(parsed_url.path, str(tmp_file))\n",
    "            return tmp_file.read_text()\n",
    "\n",
    "    @classmethod\n",
    "    def write(cls, file_content, path):\n",
    "        \"\"\"\n",
    "        Write a notebook to an SFTP server.\n",
    "        \"\"\"\n",
    "        parsed_url = urllib.parse.urlparse(path)\n",
    "        with tempfile.TemporaryDirectory() as tmpdir:\n",
    "            tmp_file = pathlib.Path(tmpdir) / \"output.ipynb\"\n",
    "            tmp_file.write_text(file_content)\n",
    "            with pysftp.Connection(\n",
    "                parsed_url.hostname,\n",
    "                username=sftp_username,\n",
    "                password=sftp_password,\n",
    "                port=(parsed_url.port or 22),\n",
    "                cnopts=cnopts,\n",
    "            ) as sftp:\n",
    "                sftp.put(str(tmp_file), parsed_url.path)\n",
    "\n",
    "    @classmethod\n",
    "    def pretty_path(cls, path):\n",
    "        return path\n",
    "\n",
    "    @classmethod\n",
    "    def listdir(cls, path):\n",
    "        raise NotImplementedError\n"
   ]
  },
  {
   "cell_type": "code",
   "execution_count": 5,
   "metadata": {},
   "outputs": [
    {
     "ename": "SyntaxError",
     "evalue": "invalid syntax (<ipython-input-5-6eff9eed2234>, line 14)",
     "output_type": "error",
     "traceback": [
      "\u001b[0;36m  File \u001b[0;32m\"<ipython-input-5-6eff9eed2234>\"\u001b[0;36m, line \u001b[0;32m14\u001b[0m\n\u001b[0;31m    output_message = f\"Execution took {(end - start).total_seconds():.3f} seconds\"\u001b[0m\n\u001b[0m                                                                                 ^\u001b[0m\n\u001b[0;31mSyntaxError\u001b[0m\u001b[0;31m:\u001b[0m invalid syntax\n"
     ]
    }
   ],
   "source": [
    "class CustomEngine(NBConvertEngine):\n",
    "\n",
    "    @classmethod\n",
    "    def execute_managed_notebook(cls, nb_man, kernel_name, **kwargs):\n",
    "\n",
    "        # call the papermill execution engine:\n",
    "        super().execute_managed_notebook(nb_man, kernel_name, **kwargs)\n",
    "\n",
    "        for cell in nb_man.nb.cells:\n",
    "\n",
    "            if cell.cell_type == \"code\" and cell.execution_count is not None:\n",
    "                start = datetime.fromisoformat(cell.metadata.papermill.start_time)\n",
    "                end = datetime.fromisoformat(cell.metadata.papermill.end_time)\n",
    "                output_message =  {(end - start).total_seconds():.3f} + \" = time taken to execute in seconds\"\n",
    "                output_node = new_output(\"display_data\", data={\"text/plain\": [output_message]})\n",
    "                cell.outputs = [output_node] + cell.outputs"
   ]
  },
  {
   "cell_type": "code",
   "execution_count": null,
   "metadata": {},
   "outputs": [],
   "source": []
  }
 ],
 "metadata": {
  "kernelspec": {
   "display_name": "Python 3",
   "language": "python",
   "name": "python3"
  },
  "language_info": {
   "codemirror_mode": {
    "name": "ipython",
    "version": 3
   },
   "file_extension": ".py",
   "mimetype": "text/x-python",
   "name": "python",
   "nbconvert_exporter": "python",
   "pygments_lexer": "ipython3",
   "version": "3.5.2"
  }
 },
 "nbformat": 4,
 "nbformat_minor": 2
}
